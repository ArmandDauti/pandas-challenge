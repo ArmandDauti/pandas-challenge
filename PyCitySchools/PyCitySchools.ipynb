{
 "cells": [
  {
   "cell_type": "code",
   "execution_count": null,
   "id": "6d028fd7",
   "metadata": {},
   "outputs": [],
   "source": [
    "# Dependencies and Setup\n",
    "\n",
    "import pandas as pd"
   ]
  },
  {
   "cell_type": "code",
   "execution_count": null,
   "id": "86218ba0",
   "metadata": {},
   "outputs": [],
   "source": [
    "# File to Load (Remember to Change These)\n",
    "\n",
    "school_data_to_load = \"Resources/schools_complete.csv\"\n",
    "student_data_to_load = \"Resources/students_complete.csv\""
   ]
  },
  {
   "cell_type": "code",
   "execution_count": null,
   "id": "cf2f5dda",
   "metadata": {},
   "outputs": [],
   "source": [
    "# Read School Data File and store into Pandas DataFrames\n",
    "\n",
    "school_data = pd.read_csv(school_data_to_load)\n",
    "school_data.head()"
   ]
  },
  {
   "cell_type": "code",
   "execution_count": null,
   "id": "abc0c538",
   "metadata": {},
   "outputs": [],
   "source": [
    "# Read Student Data File and store into Pandas DataFrames\n",
    "\n",
    "student_data = pd.read_csv(student_data_to_load)\n",
    "student_data.head()"
   ]
  },
  {
   "cell_type": "code",
   "execution_count": null,
   "id": "b754a72d",
   "metadata": {},
   "outputs": [],
   "source": [
    "# Combine the data into a single dataset.  \n",
    "\n",
    "school_data_complete = pd.merge(student_data, school_data, how=\"left\", on=[\"school_name\", \"school_name\"])\n",
    "school_data_complete.head()"
   ]
  },
  {
   "cell_type": "code",
   "execution_count": null,
   "id": "1681d169",
   "metadata": {},
   "outputs": [],
   "source": [
    "# The total number of schools\n",
    "school_total = school_data_complete[\"school_name\"].unique()\n",
    "\n",
    "number_schools = len(school_total)\n",
    "number_schools                     "
   ]
  },
  {
   "cell_type": "code",
   "execution_count": null,
   "id": "86f39045",
   "metadata": {},
   "outputs": [],
   "source": [
    "# The total number of students \n",
    "student_total = school_data_complete[\"student_name\"].count()\n",
    "\n",
    "student_total"
   ]
  },
  {
   "cell_type": "code",
   "execution_count": null,
   "id": "96dfda46",
   "metadata": {},
   "outputs": [],
   "source": [
    "# The total budget of all the schools \n",
    "total_budget = school_data[\"budget\"].sum()\n",
    "\n",
    "total_budget"
   ]
  },
  {
   "cell_type": "code",
   "execution_count": null,
   "id": "279eb2a6",
   "metadata": {},
   "outputs": [],
   "source": [
    "#The average math score\n",
    "average_math_score = school_data_complete[\"math_score\"].mean()\n",
    "\n",
    "average_math_score"
   ]
  },
  {
   "cell_type": "code",
   "execution_count": null,
   "id": "976ce734",
   "metadata": {},
   "outputs": [],
   "source": [
    "#The average reading score\n",
    "average_reading_score = school_data_complete[\"reading_score\"].mean()\n",
    "\n",
    "average_reading_score"
   ]
  },
  {
   "cell_type": "code",
   "execution_count": null,
   "id": "0ea5c464",
   "metadata": {},
   "outputs": [],
   "source": [
    "#The percentage of math passing\n",
    "passing_math_count = school_data_complete[(school_data_complete[\"math_score\"] >= 70)].count()[\"student_name\"]\n",
    "\n",
    "passing_math_percentage = (passing_math_count / float(student_total)) * 100\n",
    "passing_math_percentage"
   ]
  },
  {
   "cell_type": "code",
   "execution_count": null,
   "id": "0abe57f0",
   "metadata": {},
   "outputs": [],
   "source": [
    "#The percentage of reading passing\n",
    "passing_reading_count = school_data_complete[(school_data_complete[\"reading_score\"] >= 70)].count()[\"student_name\"]\n",
    "passing_reading_percentage = (passing_reading_count / float(student_total)) * 100\n",
    "passing_reading_percentage"
   ]
  },
  {
   "cell_type": "code",
   "execution_count": null,
   "id": "d65e0519",
   "metadata": {},
   "outputs": [],
   "source": [
    "#The percentage of overall passing\n",
    "passing_math_reading_count = school_data_complete[(school_data_complete[\"reading_score\"] >= 70) & (school_data_complete[\"math_score\"] >= 70)].count()[\"student_name\"]\n",
    "\n",
    "passing_math_reading_percentage = (passing_math_reading_count / float(student_total)) * 100\n",
    "passing_math_reading_percentage"
   ]
  },
  {
   "cell_type": "code",
   "execution_count": null,
   "id": "888a92d5",
   "metadata": {},
   "outputs": [],
   "source": [
    "#District DataFrame\n",
    "district_summary = pd.DataFrame({\n",
    "    \"Total Schools\": [number_schools],\n",
    "    \"Total Students\": [student_total],\n",
    "    \"Total Budget\": [total_budget],\n",
    "    \"Average Math Score\": [average_math_score],\n",
    "    \"Average Reading Score\": [average_reading_score],\n",
    "    \"% Passing Math\": [passing_math_percentage],\n",
    "    \"% Passing Reading\": [passing_reading_percentage],\n",
    "    \"% Overall Passing\": [passing_math_reading_percentage]})\n",
    "\n",
    "district_summary.head()"
   ]
  },
  {
   "cell_type": "code",
   "execution_count": null,
   "id": "ed073965",
   "metadata": {},
   "outputs": [],
   "source": [
    "#The school names\n",
    "school_names = school_data_complete[\"school_name\"].unique()\n",
    "\n",
    "school_names"
   ]
  },
  {
   "cell_type": "code",
   "execution_count": null,
   "id": "019babbc",
   "metadata": {},
   "outputs": [],
   "source": [
    "school_types = school_data.set_index(['school_name'])[\"type\"]\n",
    "\n",
    "school_types"
   ]
  },
  {
   "cell_type": "code",
   "execution_count": null,
   "id": "261a6765",
   "metadata": {},
   "outputs": [],
   "source": [
    "per_school_students = school_data_complete[\"school_name\"].value_counts()\n",
    "\n",
    "per_school_students"
   ]
  },
  {
   "cell_type": "code",
   "execution_count": null,
   "id": "159bec3d",
   "metadata": {},
   "outputs": [],
   "source": [
    "per_school_budget = school_data_complete.groupby([\"school_name\"]).mean()[\"budget\"]\n",
    "\n",
    "per_school_budget"
   ]
  },
  {
   "cell_type": "code",
   "execution_count": null,
   "id": "7754424d",
   "metadata": {},
   "outputs": [],
   "source": [
    "per_school_capita = per_school_budget / per_school_students\n",
    "\n",
    "per_school_capita"
   ]
  },
  {
   "cell_type": "code",
   "execution_count": null,
   "id": "2e21c918",
   "metadata": {},
   "outputs": [],
   "source": [
    "per_school_math = school_data_complete.groupby([\"school_name\"]).mean()[\"math_score\"]\n",
    "\n",
    "per_school_math"
   ]
  },
  {
   "cell_type": "code",
   "execution_count": null,
   "id": "d32e9e5d",
   "metadata": {},
   "outputs": [],
   "source": [
    "per_school_read = school_data_complete.groupby([\"school_name\"]).mean()[\"reading_score\"]\n",
    "\n",
    "per_school_read"
   ]
  },
  {
   "cell_type": "code",
   "execution_count": null,
   "id": "2c0e71ee",
   "metadata": {},
   "outputs": [],
   "source": [
    "pass_math_df = school_data_complete[school_data_complete[\"math_score\"] >= 70]\n",
    "\n",
    "pass_math_per = pass_math_df.groupby([\"school_name\"]).count()[\"student_name\"] / per_school_students * 100\n",
    "\n",
    "pass_math_per"
   ]
  },
  {
   "cell_type": "code",
   "execution_count": null,
   "id": "8f4a5284",
   "metadata": {},
   "outputs": [],
   "source": [
    "pass_read_df = school_data_complete[school_data_complete[\"reading_score\"] >= 70]\n",
    "\n",
    "pass_reading_per = pass_read_df.groupby([\"school_name\"]).count()[\"student_name\"] / per_school_students * 100\n",
    "\n",
    "pass_reading_per"
   ]
  },
  {
   "cell_type": "code",
   "execution_count": null,
   "id": "f44efb02",
   "metadata": {},
   "outputs": [],
   "source": [
    "pass_both_df = school_data_complete[(school_data_complete[\"reading_score\"] >= 70) & \\\n",
    "                                    (school_data_complete[\"math_score\"] >= 70)]\n",
    "\n",
    "pass_both_per = pass_both_df.groupby([\"school_name\"]).count()[\"student_name\"] / per_school_students * 100\n",
    "\n",
    "pass_both_per"
   ]
  },
  {
   "cell_type": "code",
   "execution_count": null,
   "id": "61b32067",
   "metadata": {},
   "outputs": [],
   "source": [
    "school_summary_df = pd.DataFrame(\n",
    "    {\n",
    "        \"School Type\": school_types ,\n",
    "        \"Total Students\": per_school_students ,\n",
    "        \"Total School Budget\":per_school_budget ,\n",
    "        \"Per Student Budget\": per_school_capita,\n",
    "        \"Average Math Score\": per_school_math ,\n",
    "        \"Average Reading Score\": per_school_read ,\n",
    "        \"% Passing Math\": pass_math_per ,\n",
    "        \"% Passing Reading\":pass_reading_per ,\n",
    "        \"% Overall Passing\":pass_both_per \n",
    "    }\n",
    ")\n",
    "\n",
    "school_summary_df"
   ]
  },
  {
   "cell_type": "code",
   "execution_count": null,
   "id": "1ce573d6",
   "metadata": {},
   "outputs": [],
   "source": [
    "top_performers_passing = school_summary_df.sort_values(\"% Overall Passing\", ascending = False)\n",
    "top_performers_passing.head()"
   ]
  },
  {
   "cell_type": "code",
   "execution_count": null,
   "id": "f45fce26",
   "metadata": {},
   "outputs": [],
   "source": [
    "bottom_performers_passing = school_summary_df.sort_values(\"% Overall Passing\", ascending = True)\n",
    "bottom_performers_passing.head()"
   ]
  },
  {
   "cell_type": "code",
   "execution_count": null,
   "id": "e30d7452",
   "metadata": {},
   "outputs": [],
   "source": [
    "ninth = school_data_complete[school_data_complete[\"grade\"]== \"9th\"] \n",
    "\n",
    "grouped_ninth = ninth.groupby(\"school_name\").mean()[\"math_score\"]\n",
    "\n",
    "grouped_ninth"
   ]
  },
  {
   "cell_type": "code",
   "execution_count": null,
   "id": "1d80351a",
   "metadata": {},
   "outputs": [],
   "source": [
    "tenth = school_data_complete[school_data_complete[\"grade\"]== \"10th\"]\n",
    "\n",
    "grouped_tenth = tenth.groupby(\"school_name\").mean()[\"math_score\"]\n",
    "\n",
    "grouped_tenth"
   ]
  },
  {
   "cell_type": "code",
   "execution_count": null,
   "id": "094d0601",
   "metadata": {},
   "outputs": [],
   "source": [
    "eleventh = school_data_complete[school_data_complete[\"grade\"]== \"11th\"]\n",
    "\n",
    "grouped_eleventh = eleventh.groupby(\"school_name\").mean()[\"math_score\"]\n",
    "\n",
    "grouped_eleventh"
   ]
  },
  {
   "cell_type": "code",
   "execution_count": null,
   "id": "364d17c4",
   "metadata": {},
   "outputs": [],
   "source": [
    "twelfth = school_data_complete[school_data_complete[\"grade\"]== \"12th\"]\n",
    "\n",
    "grouped_twelfth = twelfth.groupby(\"school_name\").mean()[\"math_score\"]\n",
    "\n",
    "grouped_twelfth"
   ]
  },
  {
   "cell_type": "code",
   "execution_count": null,
   "id": "2edb1a2a",
   "metadata": {},
   "outputs": [],
   "source": [
    "school_grades_df = pd.DataFrame(\n",
    "    {\n",
    "        \"9th\" : grouped_ninth,\n",
    "        \"10th\" : grouped_tenth,\n",
    "        \"11th\" : grouped_eleventh,\n",
    "        \"12th\" : grouped_twelfth,\n",
    "        \n",
    "    }\n",
    ")\n",
    "\n",
    "\n",
    "school_grades_df"
   ]
  },
  {
   "cell_type": "code",
   "execution_count": null,
   "id": "8e1ec380",
   "metadata": {},
   "outputs": [],
   "source": [
    "ninth = school_data_complete[school_data_complete[\"grade\"]== \"9th\"] \n",
    "\n",
    "grouped_ninth = ninth.groupby(\"school_name\").mean()[\"reading_score\"]\n",
    "\n",
    "grouped_ninth"
   ]
  },
  {
   "cell_type": "code",
   "execution_count": null,
   "id": "3bc90893",
   "metadata": {},
   "outputs": [],
   "source": [
    "tenth = school_data_complete[school_data_complete[\"grade\"]== \"10th\"]\n",
    "\n",
    "grouped_tenth = tenth.groupby(\"school_name\").mean()[\"reading_score\"]\n",
    "\n",
    "grouped_tenth"
   ]
  },
  {
   "cell_type": "code",
   "execution_count": null,
   "id": "29d1c457",
   "metadata": {},
   "outputs": [],
   "source": [
    "eleventh = school_data_complete[school_data_complete[\"grade\"]== \"11th\"]\n",
    "\n",
    "grouped_eleventh = eleventh.groupby(\"school_name\").mean()[\"reading_score\"]\n",
    "\n",
    "grouped_eleventh"
   ]
  },
  {
   "cell_type": "code",
   "execution_count": null,
   "id": "9241b00a",
   "metadata": {},
   "outputs": [],
   "source": [
    "twelfth = school_data_complete[school_data_complete[\"grade\"]== \"12th\"]\n",
    "\n",
    "grouped_twelfth = twelfth.groupby(\"school_name\").mean()[\"reading_score\"]\n",
    "\n",
    "grouped_twelfth"
   ]
  },
  {
   "cell_type": "code",
   "execution_count": null,
   "id": "33f9cc1d",
   "metadata": {},
   "outputs": [],
   "source": [
    "school_grades_df = pd.DataFrame(\n",
    "    {\n",
    "        \"9th\" : grouped_ninth,\n",
    "        \"10th\" : grouped_tenth,\n",
    "        \"11th\" : grouped_eleventh,\n",
    "        \"12th\" : grouped_twelfth,\n",
    "        \n",
    "    }\n",
    ")\n",
    "\n",
    "school_grades_df"
   ]
  },
  {
   "cell_type": "code",
   "execution_count": null,
   "id": "fff5741b",
   "metadata": {},
   "outputs": [],
   "source": [
    "bins = [0 , 585, 630, 645, 680]\n",
    "labels = [\"<$585\",\"$585-630\", \"$630-645\", \"$645-680\"]\n",
    "\n",
    "spending_df = school_summary_df\n",
    "\n",
    "spending_df[\"Spending Ranges (Per Student)\"] = pd.cut(per_school_capita, bins, labels=labels)\n",
    "spending_df"
   ]
  },
  {
   "cell_type": "code",
   "execution_count": null,
   "id": "2fdefad4",
   "metadata": {},
   "outputs": [],
   "source": [
    "avg_reading = spending_df.groupby(['Spending Ranges (Per Student)']).mean()[\"Average Reading Score\"]\n",
    "avg_math = spending_df.groupby(['Spending Ranges (Per Student)']).mean()[\"Average Math Score\"]\n",
    "percent_math = spending_df.groupby(['Spending Ranges (Per Student)']).mean()[\"% Passing Math\"]\n",
    "percent_reading = spending_df.groupby(['Spending Ranges (Per Student)']).mean()[\"% Passing Reading\"]\n",
    "percent_ovrall = spending_df.groupby(['Spending Ranges (Per Student)']).mean()[\"% Overall Passing\"]\n",
    "\n",
    "\n",
    "#\n",
    "spending_ranges_df = pd.DataFrame(\n",
    "    {\n",
    "        \"Average Math Score\": avg_math,\n",
    "        \"Average Reading Score\": avg_reading,\n",
    "        \"% Passing Math\": percent_math,\n",
    "        \"% Passing Reading\" : percent_reading,\n",
    "        \"% Overall Passing\" : percent_ovrall,\n",
    "    }\n",
    ")\n",
    "\n",
    "spending_ranges_df"
   ]
  },
  {
   "cell_type": "code",
   "execution_count": null,
   "id": "7fe656c6",
   "metadata": {},
   "outputs": [],
   "source": [
    "size_bins = [0, 1000, 2000, 5000]\n",
    "group_names = [\"Small (<1000)\", \"Medium (1000-2000)\", \"Large (2000-5000)\"]\n",
    "per_school_summary = spending_df\n",
    "per_school_summary[\"School Size\"] = pd.cut(per_school_summary[\"Total Students\"], size_bins, labels=group_names)\n",
    "per_school_summary"
   ]
  },
  {
   "cell_type": "code",
   "execution_count": null,
   "id": "503a9141",
   "metadata": {},
   "outputs": [],
   "source": [
    "avg_reading = per_school_summary.groupby(['School Size']).mean()[\"Average Reading Score\"]\n",
    "avg_math = per_school_summary.groupby(['School Size']).mean()[\"Average Math Score\"]\n",
    "percent_math = per_school_summary.groupby(['School Size']).mean()[\"% Passing Math\"]\n",
    "percent_reading = per_school_summary.groupby(['School Size']).mean()[\"% Passing Reading\"]\n",
    "percent_ovrall = per_school_summary.groupby(['School Size']).mean()[\"% Overall Passing\"]\n",
    "\n",
    "\n",
    "#\n",
    "size_df = pd.DataFrame(\n",
    "    {\n",
    "        \"Average Math Score\": avg_math,\n",
    "        \"Average Reading Score\": avg_reading,\n",
    "        \"% Passing Math\": percent_math,\n",
    "        \"% Passing Reading\" : percent_reading,\n",
    "        \"% Overall Passing\" : percent_ovrall,\n",
    "    }\n",
    ")\n",
    "\n",
    "size_df"
   ]
  },
  {
   "cell_type": "code",
   "execution_count": null,
   "id": "8653b338",
   "metadata": {},
   "outputs": [],
   "source": [
    "school_type_math_avg = per_school_summary.groupby([\"School Type\"]).mean()[\"Average Math Score\"]\n",
    "school_type_read_avg = per_school_summary.groupby([\"School Type\"]).mean()[\"Average Reading Score\"]\n",
    "school_type_perc_math = per_school_summary.groupby([\"School Type\"]).mean()[\"% Passing Math\"]\n",
    "school_type_perc_reading = per_school_summary.groupby([\"School Type\"]).mean()[\"% Passing Reading\"]\n",
    "school_type_perc_ovr = per_school_summary.groupby([\"School Type\"]).mean()[\"% Overall Passing\"]\n",
    "\n",
    "#\n",
    "score_by_typeDF = pd.DataFrame(\n",
    "    {\n",
    "         \"Average Math Score\":school_type_math_avg, \n",
    "         \"Average Reading score\":school_type_read_avg,  \n",
    "         \"% Passing Math\":school_type_perc_math,  \n",
    "         \"% Passing Reading\":school_type_perc_reading,  \n",
    "         \"% Overall Passing\":school_type_perc_ovr,  \n",
    "    }\n",
    ")\n",
    "\n",
    "score_by_typeDF"
   ]
  },
  {
   "cell_type": "code",
   "execution_count": null,
   "id": "2056d429",
   "metadata": {},
   "outputs": [],
   "source": []
  }
 ],
 "metadata": {
  "kernelspec": {
   "display_name": "PythonData38",
   "language": "python",
   "name": "pythondata38"
  },
  "language_info": {
   "codemirror_mode": {
    "name": "ipython",
    "version": 3
   },
   "file_extension": ".py",
   "mimetype": "text/x-python",
   "name": "python",
   "nbconvert_exporter": "python",
   "pygments_lexer": "ipython3",
   "version": "3.9.12"
  }
 },
 "nbformat": 4,
 "nbformat_minor": 5
}
